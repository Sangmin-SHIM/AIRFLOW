{
 "cells": [
  {
   "cell_type": "code",
   "execution_count": 311,
   "id": "24fad399",
   "metadata": {},
   "outputs": [],
   "source": [
    "import requests\n",
    "from bs4 import BeautifulSoup\n",
    "\n",
    "class RequestCustom:\n",
    "    def __init__(self, url, site_name):\n",
    "        self.url = url\n",
    "        self.site_name = site_name\n",
    "\n",
    "    def get_url(self):\n",
    "        return self.url\n",
    "\n",
    "    def get_request(self):\n",
    "        url=self.get_url()     \n",
    "        return requests.get(url, allow_redirects=False)\n",
    "\n",
    "    def get_status(self):\n",
    "        request = self.get_request()\n",
    "        status = request.status_code\n",
    "        return status\n",
    "\n",
    "    def get_soup(self):\n",
    "        request=self.get_request()\n",
    "        status = self.get_status()\n",
    "        if status == 200:\n",
    "            soup = BeautifulSoup(request.text, 'html.parser')\n",
    "            return soup\n",
    "        else:\n",
    "            print(\"Error: \", status)\n",
    "            return None"
   ]
  },
  {
   "cell_type": "code",
   "execution_count": 312,
   "id": "9e115155",
   "metadata": {},
   "outputs": [],
   "source": [
    "import csv\n",
    "\n",
    "class CsvCustom:\n",
    "\n",
    "    def __init__(self, site_name):\n",
    "        self.site_name = site_name\n",
    "\n",
    "    def create_csv(self):\n",
    "        file = open(f'{self.site_name}.csv', 'w',newline='',encoding='utf-8-sig')\n",
    "        writer = csv.writer(file)\n",
    "        headers = [\"title\", \"link\", \"description\", \"price\"]\n",
    "        writer.writerow(headers)\n",
    "\n",
    "    def write_csv(self,**kwargs): \n",
    "        title = kwargs['title']\n",
    "        link = kwargs['link']\n",
    "        description = kwargs['description']\n",
    "        price = kwargs['price']\n",
    "\n",
    "        file = open(f'{self.site_name}.csv', 'a', newline='', encoding='utf-8-sig')\n",
    "        writer = csv.writer(file)\n",
    "        contents = ([title,link, description, price])\n",
    "        writer.writerow(contents)\n",
    "        return file\n",
    "\n",
    "    def close_csv(self,file):\n",
    "        file.close()"
   ]
  },
  {
   "cell_type": "code",
   "execution_count": 313,
   "id": "e536f4cc",
   "metadata": {},
   "outputs": [],
   "source": [
    "listes_uri=[\n",
    "    'Side-by-Side-Refrigerators.html',\n",
    "    'bottom-freezer-refrigerator.html',\n",
    "    'Side-by-Side-Refrigerators.html',\n",
    "    'Top-Freezer-Refrigerators.html',\n",
    "    'counter-depth-refrigerator.html',    \n",
    "]\n",
    "site_refrigerator_pro = RequestCustom(url=f\"https://www.refrigeratorpro.com/{listes_uri[0]}\", site_name=\"refrigerator_pro\")\n",
    "\n",
    "soup = site_refrigerator_pro.get_soup()\n",
    "\n",
    "listes_prods_title=soup.find(\"ol\").find_all(\"h3\")\n",
    "listes_prods_link=soup.find(\"ol\").find_all(\"a\")\n",
    "listes_prods_description=soup.find(\"ol\").find_all(\"p\")"
   ]
  },
  {
   "cell_type": "code",
   "execution_count": 314,
   "id": "febe6a66",
   "metadata": {},
   "outputs": [],
   "source": [
    "company_dict={}\n",
    "\n",
    "for title in listes_prods_title:\n",
    "    title = title.get_text().strip()\n",
    "    for link in listes_prods_link:\n",
    "                if title == \"General Electric\":\n",
    "                    title = \"GE_\"\n",
    "                if title.upper() in link[\"href\"].strip().replace(\"-\",\" \").upper():                    \n",
    "                    if title not in company_dict.keys():\n",
    "                        company_dict[title]=link[\"href\"]\n",
    "                    continue"
   ]
  },
  {
   "cell_type": "code",
   "execution_count": 315,
   "id": "898ef338",
   "metadata": {},
   "outputs": [],
   "source": [
    "import re\n",
    "\n",
    "for description in listes_prods_description[0].find_all(\"h3\"):\n",
    "    if description.find_next_sibling(\"p\"):\n",
    "        text = description.find_next_sibling(\"p\").get_text()\n",
    "        break\n",
    "\n",
    "# Remove phrases starting with \"Click for ...\"\n",
    "clean_text = re.sub(r\"Click here for .*?Reviews\", \"\", text, flags=re.DOTALL)\n",
    "clean_text = re.sub(r\"Click for .*?Reviews\", \"\", clean_text, flags=re.DOTALL)\n",
    "clean_text = re.sub(r\"Check out .\", \"\", clean_text, flags=re.DOTALL)\n",
    "# Remove words with line breaks that don't have a period (\".\") at the end\n",
    "clean_text = re.sub(r\"(?m)^\\w+(?: \\w+)*\\n(?!\\w*\\.)\", \"\", clean_text)\n",
    "clean_text = clean_text.replace('\\n',\"\").split('. ')"
   ]
  },
  {
   "cell_type": "code",
   "execution_count": 316,
   "id": "39251fe5",
   "metadata": {},
   "outputs": [],
   "source": [
    "csv_refrigerator_pro=CsvCustom(\"refrigerator_pro\")\n",
    "csv_refrigerator_pro.create_csv()\n",
    "for index, (title, link) in enumerate(company_dict.items(), start=0):\n",
    "    file=csv_refrigerator_pro.write_csv(title=title, link=link, description=clean_text[index], price=\"\")\n",
    "    \n",
    "csv_refrigerator_pro.close_csv(file)  "
   ]
  }
 ],
 "metadata": {
  "kernelspec": {
   "display_name": "Python 3 (ipykernel)",
   "language": "python",
   "name": "python3"
  },
  "language_info": {
   "codemirror_mode": {
    "name": "ipython",
    "version": 3
   },
   "file_extension": ".py",
   "mimetype": "text/x-python",
   "name": "python",
   "nbconvert_exporter": "python",
   "pygments_lexer": "ipython3",
   "version": "3.8.10"
  }
 },
 "nbformat": 4,
 "nbformat_minor": 5
}
