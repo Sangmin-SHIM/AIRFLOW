{
 "cells": [
  {
   "cell_type": "code",
   "execution_count": 2,
   "id": "6c3eba72",
   "metadata": {},
   "outputs": [],
   "source": [
    "# Import required modules\n",
    "import csv\n",
    "import sqlite3\n",
    " \n",
    "# Connecting to the geeks database\n",
    "connection = sqlite3.connect('airflow.db')\n",
    " \n",
    "# Creating a cursor object to execute\n",
    "# SQL queries on a database table\n",
    "cursor = connection.cursor()\n",
    " \n",
    "# Table Definition\n",
    "create_table = '''CREATE TABLE fridge(\n",
    "                id INTEGER PRIMARY KEY AUTOINCREMENT,\n",
    "                title TEXT,\n",
    "                link TEXT,\n",
    "                description TEXT,\n",
    "                price TEXT\n",
    "                );\n",
    "                '''\n",
    " \n",
    "# Creating the table into our\n",
    "# database\n",
    "cursor.execute(create_table)\n",
    " \n",
    "# Opening the person-records.csv file\n",
    "file = open('combined.csv')\n",
    " \n",
    "# Reading the contents of the\n",
    "# person-records.csv file\n",
    "contents = csv.reader(file)\n",
    "# Skip the first row\n",
    "next(contents)\n",
    "# SQL query to insert data into the\n",
    "# person table\n",
    "insert_records = \"INSERT INTO fridge (title, link, description, price) VALUES(?, ?, ?, ?)\"\n",
    " \n",
    "# Importing the contents of the file\n",
    "# into our person table\n",
    "cursor.executemany(insert_records, contents)\n",
    " \n",
    "# Committing the changes\n",
    "connection.commit()\n",
    " \n",
    "# closing the database connection\n",
    "connection.close()"
   ]
  },
  {
   "cell_type": "code",
   "execution_count": null,
   "id": "f0686c85",
   "metadata": {},
   "outputs": [],
   "source": []
  }
 ],
 "metadata": {
  "kernelspec": {
   "display_name": "Python 3 (ipykernel)",
   "language": "python",
   "name": "python3"
  },
  "language_info": {
   "codemirror_mode": {
    "name": "ipython",
    "version": 3
   },
   "file_extension": ".py",
   "mimetype": "text/x-python",
   "name": "python",
   "nbconvert_exporter": "python",
   "pygments_lexer": "ipython3",
   "version": "3.8.10"
  }
 },
 "nbformat": 4,
 "nbformat_minor": 5
}
