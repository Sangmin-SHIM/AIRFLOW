{
 "cells": [
  {
   "cell_type": "code",
   "execution_count": 2,
   "id": "7ad8c6c2",
   "metadata": {},
   "outputs": [],
   "source": [
    "import pandas as pd\n",
    "\n",
    "# Read the CSV file and create a DataFrame\n",
    "df = pd.read_csv('combined.csv')"
   ]
  },
  {
   "cell_type": "code",
   "execution_count": 11,
   "id": "b0f414ef",
   "metadata": {},
   "outputs": [],
   "source": [
    "# Count the occurrences of each word in a specific column\n",
    "word_counts_description = df['description'].value_counts()\n",
    "\n",
    "# Convert the Series to a DataFrame\n",
    "word_counts_df = pd.DataFrame({'word': word_counts_description.index, 'count': word_counts_description.values})\n",
    "\n",
    "# Print the DataFrame\n",
    "word_counts_df.to_csv(\"word_counts_description.csv\", index=False)"
   ]
  },
  {
   "cell_type": "code",
   "execution_count": 12,
   "id": "138829c7",
   "metadata": {},
   "outputs": [],
   "source": [
    "# Count the occurrences of each word in a specific column\n",
    "word_counts_title = df['title'].value_counts()\n",
    "\n",
    "# Print the word counts\n",
    "word_counts_df = pd.DataFrame({'word': word_counts_title.index, 'count': word_counts_title.values})\n",
    "\n",
    "# Print the DataFrame\n",
    "word_counts_df.to_csv(\"word_counts_title.csv\", index=False)"
   ]
  }
 ],
 "metadata": {
  "kernelspec": {
   "display_name": "Python 3 (ipykernel)",
   "language": "python",
   "name": "python3"
  },
  "language_info": {
   "codemirror_mode": {
    "name": "ipython",
    "version": 3
   },
   "file_extension": ".py",
   "mimetype": "text/x-python",
   "name": "python",
   "nbconvert_exporter": "python",
   "pygments_lexer": "ipython3",
   "version": "3.8.10"
  }
 },
 "nbformat": 4,
 "nbformat_minor": 5
}
