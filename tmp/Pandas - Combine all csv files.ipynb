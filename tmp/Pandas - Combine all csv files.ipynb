{
 "cells": [
  {
   "cell_type": "code",
   "execution_count": 23,
   "id": "6271bf37",
   "metadata": {},
   "outputs": [
    {
     "name": "stdout",
     "output_type": "stream",
     "text": [
      "quelfrigo.csv\n",
      "refrigerator_pro.csv\n",
      "energystar.csv\n",
      "<built-in function listdir>\n"
     ]
    },
    {
     "name": "stderr",
     "output_type": "stream",
     "text": [
      "/tmp/ipykernel_214293/1793134677.py:23: FutureWarning: The frame.append method is deprecated and will be removed from pandas in a future version. Use pandas.concat instead.\n",
      "  combined_data = combined_data.append(data)\n",
      "/tmp/ipykernel_214293/1793134677.py:23: FutureWarning: The frame.append method is deprecated and will be removed from pandas in a future version. Use pandas.concat instead.\n",
      "  combined_data = combined_data.append(data)\n",
      "/tmp/ipykernel_214293/1793134677.py:23: FutureWarning: The frame.append method is deprecated and will be removed from pandas in a future version. Use pandas.concat instead.\n",
      "  combined_data = combined_data.append(data)\n"
     ]
    }
   ],
   "source": [
    "import pandas as pd\n",
    "import os\n",
    "\n",
    "\n",
    "# Folder path containing the CSV files\n",
    "current_path = os.getcwd()\n",
    "parent_directory = os.path.dirname(current_path)\n",
    "\n",
    "folder_path = f\"{parent_directory}/tmp\"\n",
    "\n",
    "# Initialize an empty DataFrame\n",
    "combined_data = pd.DataFrame()\n",
    "\n",
    "# Iterate over the files in the folder\n",
    "for file_name in os.listdir(folder_path):\n",
    "    if file_name.endswith(\".csv\"):\n",
    "\n",
    "        file_path = os.path.join(folder_path, file_name)\n",
    "        # Read each CSV file\n",
    "        data = pd.read_csv(file_path)\n",
    "        # Append the data to the combined_data DataFrame\n",
    "        combined_data = pd.concat([combined_data, data])\n",
    "\n",
    "# Write the combined data to a new CSV file\n",
    "combined_data.to_csv(\"combined.csv\", index=False)"
   ]
  },
  {
   "cell_type": "code",
   "execution_count": 3,
   "id": "d1a520f5",
   "metadata": {},
   "outputs": [
    {
     "name": "stdout",
     "output_type": "stream",
     "text": [
      "Defaulting to user installation because normal site-packages is not writeable\n",
      "Requirement already satisfied: pandas in /home/sangmin/.local/lib/python3.8/site-packages (1.5.0)\n",
      "Requirement already satisfied: python-dateutil>=2.8.1 in /home/sangmin/.local/lib/python3.8/site-packages (from pandas) (2.8.2)\n",
      "Collecting pytz>=2020.1 (from pandas)\n",
      "  Using cached pytz-2023.3-py2.py3-none-any.whl (502 kB)\n",
      "Requirement already satisfied: numpy>=1.20.3 in /home/sangmin/.local/lib/python3.8/site-packages (from pandas) (1.23.3)\n",
      "Requirement already satisfied: six>=1.5 in /home/sangmin/.local/lib/python3.8/site-packages (from python-dateutil>=2.8.1->pandas) (1.16.0)\n",
      "Installing collected packages: pytz\n",
      "Successfully installed pytz-2023.3\n"
     ]
    }
   ],
   "source": [
    "!pip install pandas"
   ]
  },
  {
   "cell_type": "code",
   "execution_count": 18,
   "id": "a34784e1",
   "metadata": {},
   "outputs": [
    {
     "data": {
      "text/plain": [
       "'/home/sangmin/Bureau/Utility/Perso/AIRFLOW'"
      ]
     },
     "execution_count": 18,
     "metadata": {},
     "output_type": "execute_result"
    }
   ],
   "source": []
  }
 ],
 "metadata": {
  "kernelspec": {
   "display_name": "Python 3 (ipykernel)",
   "language": "python",
   "name": "python3"
  },
  "language_info": {
   "codemirror_mode": {
    "name": "ipython",
    "version": 3
   },
   "file_extension": ".py",
   "mimetype": "text/x-python",
   "name": "python",
   "nbconvert_exporter": "python",
   "pygments_lexer": "ipython3",
   "version": "3.8.10"
  }
 },
 "nbformat": 4,
 "nbformat_minor": 5
}
